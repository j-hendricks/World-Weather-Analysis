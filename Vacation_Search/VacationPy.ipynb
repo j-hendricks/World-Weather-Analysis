{
 "cells": [
  {
   "cell_type": "code",
   "execution_count": 1,
   "id": "6c8304e1",
   "metadata": {},
   "outputs": [],
   "source": [
    "# Import the dependencies.\n",
    "# %matplotlib inline\n",
    "import pandas as pd\n",
    "import gmaps\n",
    "import requests\n",
    "# Import the API key.\n",
    "from config import g_key"
   ]
  },
  {
   "cell_type": "code",
   "execution_count": 2,
   "id": "ae6b6ee7",
   "metadata": {},
   "outputs": [
    {
     "data": {
      "text/html": [
       "<div>\n",
       "<style scoped>\n",
       "    .dataframe tbody tr th:only-of-type {\n",
       "        vertical-align: middle;\n",
       "    }\n",
       "\n",
       "    .dataframe tbody tr th {\n",
       "        vertical-align: top;\n",
       "    }\n",
       "\n",
       "    .dataframe thead th {\n",
       "        text-align: right;\n",
       "    }\n",
       "</style>\n",
       "<table border=\"1\" class=\"dataframe\">\n",
       "  <thead>\n",
       "    <tr style=\"text-align: right;\">\n",
       "      <th></th>\n",
       "      <th>City_ID</th>\n",
       "      <th>City</th>\n",
       "      <th>Country</th>\n",
       "      <th>Date</th>\n",
       "      <th>Lat</th>\n",
       "      <th>Lng</th>\n",
       "      <th>Max Temp</th>\n",
       "      <th>Humidity</th>\n",
       "      <th>Cloudiness</th>\n",
       "      <th>Wind Speed</th>\n",
       "    </tr>\n",
       "  </thead>\n",
       "  <tbody>\n",
       "    <tr>\n",
       "      <th>0</th>\n",
       "      <td>0</td>\n",
       "      <td>Hermanus</td>\n",
       "      <td>ZA</td>\n",
       "      <td>2022-06-27 12:41:00</td>\n",
       "      <td>-34.4187</td>\n",
       "      <td>19.2345</td>\n",
       "      <td>67.80</td>\n",
       "      <td>46</td>\n",
       "      <td>0</td>\n",
       "      <td>4.03</td>\n",
       "    </tr>\n",
       "    <tr>\n",
       "      <th>1</th>\n",
       "      <td>1</td>\n",
       "      <td>Provideniya</td>\n",
       "      <td>RU</td>\n",
       "      <td>2022-06-27 12:41:00</td>\n",
       "      <td>64.3833</td>\n",
       "      <td>-173.3000</td>\n",
       "      <td>43.36</td>\n",
       "      <td>98</td>\n",
       "      <td>100</td>\n",
       "      <td>6.51</td>\n",
       "    </tr>\n",
       "    <tr>\n",
       "      <th>2</th>\n",
       "      <td>2</td>\n",
       "      <td>Kupang</td>\n",
       "      <td>ID</td>\n",
       "      <td>2022-06-27 12:41:01</td>\n",
       "      <td>-10.1667</td>\n",
       "      <td>123.5833</td>\n",
       "      <td>78.67</td>\n",
       "      <td>73</td>\n",
       "      <td>74</td>\n",
       "      <td>13.38</td>\n",
       "    </tr>\n",
       "    <tr>\n",
       "      <th>3</th>\n",
       "      <td>3</td>\n",
       "      <td>Moranbah</td>\n",
       "      <td>AU</td>\n",
       "      <td>2022-06-27 12:41:01</td>\n",
       "      <td>-22.0016</td>\n",
       "      <td>148.0466</td>\n",
       "      <td>58.35</td>\n",
       "      <td>45</td>\n",
       "      <td>76</td>\n",
       "      <td>16.96</td>\n",
       "    </tr>\n",
       "    <tr>\n",
       "      <th>4</th>\n",
       "      <td>4</td>\n",
       "      <td>Mar Del Plata</td>\n",
       "      <td>AR</td>\n",
       "      <td>2022-06-27 12:41:02</td>\n",
       "      <td>-38.0023</td>\n",
       "      <td>-57.5575</td>\n",
       "      <td>49.08</td>\n",
       "      <td>81</td>\n",
       "      <td>0</td>\n",
       "      <td>13.80</td>\n",
       "    </tr>\n",
       "  </tbody>\n",
       "</table>\n",
       "</div>"
      ],
      "text/plain": [
       "   City_ID           City Country                 Date      Lat       Lng  \\\n",
       "0        0       Hermanus      ZA  2022-06-27 12:41:00 -34.4187   19.2345   \n",
       "1        1    Provideniya      RU  2022-06-27 12:41:00  64.3833 -173.3000   \n",
       "2        2         Kupang      ID  2022-06-27 12:41:01 -10.1667  123.5833   \n",
       "3        3       Moranbah      AU  2022-06-27 12:41:01 -22.0016  148.0466   \n",
       "4        4  Mar Del Plata      AR  2022-06-27 12:41:02 -38.0023  -57.5575   \n",
       "\n",
       "   Max Temp  Humidity  Cloudiness  Wind Speed  \n",
       "0     67.80        46           0        4.03  \n",
       "1     43.36        98         100        6.51  \n",
       "2     78.67        73          74       13.38  \n",
       "3     58.35        45          76       16.96  \n",
       "4     49.08        81           0       13.80  "
      ]
     },
     "execution_count": 2,
     "metadata": {},
     "output_type": "execute_result"
    }
   ],
   "source": [
    "city_data_df = pd.read_csv(\"weather_data/cities.csv\")\n",
    "city_data_df.head()"
   ]
  },
  {
   "cell_type": "code",
   "execution_count": 3,
   "id": "ed2f3e59",
   "metadata": {},
   "outputs": [
    {
     "data": {
      "text/plain": [
       "City_ID         int64\n",
       "City           object\n",
       "Country        object\n",
       "Date           object\n",
       "Lat           float64\n",
       "Lng           float64\n",
       "Max Temp      float64\n",
       "Humidity        int64\n",
       "Cloudiness      int64\n",
       "Wind Speed    float64\n",
       "dtype: object"
      ]
     },
     "execution_count": 3,
     "metadata": {},
     "output_type": "execute_result"
    }
   ],
   "source": [
    "city_data_df.dtypes"
   ]
  },
  {
   "cell_type": "code",
   "execution_count": 4,
   "id": "7ef3f40f",
   "metadata": {},
   "outputs": [],
   "source": [
    "gmaps.configure(api_key=g_key)"
   ]
  },
  {
   "cell_type": "code",
   "execution_count": 5,
   "id": "95526c4e",
   "metadata": {},
   "outputs": [
    {
     "data": {
      "application/vnd.jupyter.widget-view+json": {
       "model_id": "3d0ab968cc444040b19d1228d082062a",
       "version_major": 2,
       "version_minor": 0
      },
      "text/plain": [
       "Figure(layout=FigureLayout(height='420px'))"
      ]
     },
     "metadata": {},
     "output_type": "display_data"
    }
   ],
   "source": [
    "locations = city_data_df[['Lat', 'Lng']]\n",
    "max_temp = city_data_df['Max Temp']\n",
    "fig = gmaps.figure()\n",
    "heat_layer = gmaps.heatmap_layer(locations, weights = max_temp)\n",
    "fig.add_layer(heat_layer)\n",
    "fig"
   ]
  },
  {
   "cell_type": "code",
   "execution_count": 6,
   "id": "608809df",
   "metadata": {},
   "outputs": [
    {
     "data": {
      "application/vnd.jupyter.widget-view+json": {
       "model_id": "90ee5804fd124e2896341246c78afb68",
       "version_major": 2,
       "version_minor": 0
      },
      "text/plain": [
       "Figure(layout=FigureLayout(height='420px'))"
      ]
     },
     "metadata": {},
     "output_type": "display_data"
    }
   ],
   "source": [
    "fig = gmaps.figure(center=(30.0, 31.0), zoom_level=1.5)\n",
    "fig"
   ]
  },
  {
   "cell_type": "code",
   "execution_count": 7,
   "id": "04efef62",
   "metadata": {},
   "outputs": [
    {
     "data": {
      "application/vnd.jupyter.widget-view+json": {
       "model_id": "392ad9c2c42a4a308f2fe847912eda51",
       "version_major": 2,
       "version_minor": 0
      },
      "text/plain": [
       "Figure(layout=FigureLayout(height='420px'))"
      ]
     },
     "metadata": {},
     "output_type": "display_data"
    }
   ],
   "source": [
    "locations = city_data_df[['Lat', 'Lng']]\n",
    "max_temp = city_data_df['Max Temp']\n",
    "fig = gmaps.figure(center=(30.0, 31.0), zoom_level=1.5)\n",
    "heat_layer = gmaps.heatmap_layer(locations, weights = max_temp)\n",
    "fig.add_layer(heat_layer)\n",
    "fig"
   ]
  },
  {
   "cell_type": "code",
   "execution_count": 8,
   "id": "c4232ca2",
   "metadata": {},
   "outputs": [
    {
     "data": {
      "application/vnd.jupyter.widget-view+json": {
       "model_id": "aa3e513ee05949d790dac281fd8a7e26",
       "version_major": 2,
       "version_minor": 0
      },
      "text/plain": [
       "Figure(layout=FigureLayout(height='420px'))"
      ]
     },
     "metadata": {},
     "output_type": "display_data"
    }
   ],
   "source": [
    "locations = city_data_df[['Lat', 'Lng']]\n",
    "max_temp = city_data_df['Max Temp']\n",
    "fig = gmaps.figure(center=(30.0, 31.0), zoom_level=1.5)\n",
    "heat_layer = gmaps.heatmap_layer(locations, weights=[max(temp, 0) for temp in max_temp], dissipating=False, max_intensity=300, point_radius=4)\n",
    "fig.add_layer(heat_layer)\n",
    "fig\n"
   ]
  },
  {
   "cell_type": "code",
   "execution_count": 9,
   "id": "4f9589d7",
   "metadata": {},
   "outputs": [],
   "source": [
    "locations = city_data_df[['Lat','Lng']]\n",
    "humidity = city_data_df['Humidity']\n",
    "fig = gmaps.figure(center=(30.0,31.0), zoom_level=1.5)\n",
    "heat_layer = gmaps.heatmap_layer(locations, weights = humidity, dissipating=False, max_intensity=300, point_radius = 4)"
   ]
  },
  {
   "cell_type": "code",
   "execution_count": 10,
   "id": "85b6acca",
   "metadata": {},
   "outputs": [
    {
     "data": {
      "application/vnd.jupyter.widget-view+json": {
       "model_id": "b0e964af6da545ca9f44f25ee8d65c74",
       "version_major": 2,
       "version_minor": 0
      },
      "text/plain": [
       "Figure(layout=FigureLayout(height='420px'))"
      ]
     },
     "metadata": {},
     "output_type": "display_data"
    }
   ],
   "source": [
    "fig.add_layer(heat_layer)\n",
    "fig"
   ]
  },
  {
   "cell_type": "code",
   "execution_count": 11,
   "id": "97b469ad",
   "metadata": {},
   "outputs": [
    {
     "data": {
      "application/vnd.jupyter.widget-view+json": {
       "model_id": "21c514c767424c1d924acdac625b7e2f",
       "version_major": 2,
       "version_minor": 0
      },
      "text/plain": [
       "Figure(layout=FigureLayout(height='420px'))"
      ]
     },
     "metadata": {},
     "output_type": "display_data"
    }
   ],
   "source": [
    "locations = city_data_df[['Lat','Lng']]\n",
    "clouds = city_data_df['Cloudiness']\n",
    "fig = gmaps.figure(center=(30.0,31.0), zoom_level=1.5)\n",
    "heat_layer = gmaps.heatmap_layer(locations, weights = clouds, dissipating=False, max_intensity=300, point_radius = 4)\n",
    "fig.add_layer(heat_layer)\n",
    "fig"
   ]
  },
  {
   "cell_type": "code",
   "execution_count": 12,
   "id": "10cd5b55",
   "metadata": {},
   "outputs": [
    {
     "data": {
      "application/vnd.jupyter.widget-view+json": {
       "model_id": "17edd4e6a1b248faa8ea9532b751878b",
       "version_major": 2,
       "version_minor": 0
      },
      "text/plain": [
       "Figure(layout=FigureLayout(height='420px'))"
      ]
     },
     "metadata": {},
     "output_type": "display_data"
    }
   ],
   "source": [
    "locations = city_data_df[['Lat','Lng']]\n",
    "wind_speed = city_data_df['Wind Speed']\n",
    "fig = gmaps.figure(center=(30.0,31.0), zoom_level=1.5)\n",
    "heat_layer = gmaps.heatmap_layer(locations, weights = wind_speed, dissipating=False, max_intensity=300, point_radius = 4)\n",
    "fig.add_layer(heat_layer)\n",
    "fig"
   ]
  },
  {
   "cell_type": "code",
   "execution_count": 13,
   "id": "9e39bbcc",
   "metadata": {},
   "outputs": [
    {
     "name": "stdout",
     "output_type": "stream",
     "text": [
      "What is the minimum temperature you would like for your trip? 70\n",
      "What is the maximum temperature you would like for your trip? 80\n"
     ]
    }
   ],
   "source": [
    "# Ask the customer to add a minimum and maximum temperature value.\n",
    "min_temp = float(input(\"What is the minimum temperature you would like for your trip? \"))\n",
    "max_temp = float(input(\"What is the maximum temperature you would like for your trip? \"))"
   ]
  },
  {
   "cell_type": "code",
   "execution_count": 14,
   "id": "8788db06",
   "metadata": {},
   "outputs": [
    {
     "data": {
      "text/html": [
       "<div>\n",
       "<style scoped>\n",
       "    .dataframe tbody tr th:only-of-type {\n",
       "        vertical-align: middle;\n",
       "    }\n",
       "\n",
       "    .dataframe tbody tr th {\n",
       "        vertical-align: top;\n",
       "    }\n",
       "\n",
       "    .dataframe thead th {\n",
       "        text-align: right;\n",
       "    }\n",
       "</style>\n",
       "<table border=\"1\" class=\"dataframe\">\n",
       "  <thead>\n",
       "    <tr style=\"text-align: right;\">\n",
       "      <th></th>\n",
       "      <th>City_ID</th>\n",
       "      <th>City</th>\n",
       "      <th>Country</th>\n",
       "      <th>Date</th>\n",
       "      <th>Lat</th>\n",
       "      <th>Lng</th>\n",
       "      <th>Max Temp</th>\n",
       "      <th>Humidity</th>\n",
       "      <th>Cloudiness</th>\n",
       "      <th>Wind Speed</th>\n",
       "    </tr>\n",
       "  </thead>\n",
       "  <tbody>\n",
       "    <tr>\n",
       "      <th>2</th>\n",
       "      <td>2</td>\n",
       "      <td>Kupang</td>\n",
       "      <td>ID</td>\n",
       "      <td>2022-06-27 12:41:01</td>\n",
       "      <td>-10.1667</td>\n",
       "      <td>123.5833</td>\n",
       "      <td>78.67</td>\n",
       "      <td>73</td>\n",
       "      <td>74</td>\n",
       "      <td>13.38</td>\n",
       "    </tr>\n",
       "    <tr>\n",
       "      <th>6</th>\n",
       "      <td>6</td>\n",
       "      <td>Cape Town</td>\n",
       "      <td>ZA</td>\n",
       "      <td>2022-06-27 12:39:31</td>\n",
       "      <td>-33.9258</td>\n",
       "      <td>18.4232</td>\n",
       "      <td>78.12</td>\n",
       "      <td>36</td>\n",
       "      <td>0</td>\n",
       "      <td>3.44</td>\n",
       "    </tr>\n",
       "    <tr>\n",
       "      <th>7</th>\n",
       "      <td>7</td>\n",
       "      <td>Rikitea</td>\n",
       "      <td>PF</td>\n",
       "      <td>2022-06-27 12:41:02</td>\n",
       "      <td>-23.1203</td>\n",
       "      <td>-134.9692</td>\n",
       "      <td>73.47</td>\n",
       "      <td>66</td>\n",
       "      <td>0</td>\n",
       "      <td>7.23</td>\n",
       "    </tr>\n",
       "    <tr>\n",
       "      <th>8</th>\n",
       "      <td>8</td>\n",
       "      <td>Ponta Do Sol</td>\n",
       "      <td>PT</td>\n",
       "      <td>2022-06-27 12:41:03</td>\n",
       "      <td>32.6667</td>\n",
       "      <td>-17.1000</td>\n",
       "      <td>73.71</td>\n",
       "      <td>62</td>\n",
       "      <td>26</td>\n",
       "      <td>3.27</td>\n",
       "    </tr>\n",
       "    <tr>\n",
       "      <th>10</th>\n",
       "      <td>10</td>\n",
       "      <td>Hilo</td>\n",
       "      <td>US</td>\n",
       "      <td>2022-06-27 12:41:04</td>\n",
       "      <td>19.7297</td>\n",
       "      <td>-155.0900</td>\n",
       "      <td>71.26</td>\n",
       "      <td>89</td>\n",
       "      <td>20</td>\n",
       "      <td>5.75</td>\n",
       "    </tr>\n",
       "    <tr>\n",
       "      <th>20</th>\n",
       "      <td>20</td>\n",
       "      <td>Mount Vernon</td>\n",
       "      <td>US</td>\n",
       "      <td>2022-06-27 12:39:11</td>\n",
       "      <td>40.9126</td>\n",
       "      <td>-73.8371</td>\n",
       "      <td>75.02</td>\n",
       "      <td>80</td>\n",
       "      <td>100</td>\n",
       "      <td>11.99</td>\n",
       "    </tr>\n",
       "    <tr>\n",
       "      <th>21</th>\n",
       "      <td>21</td>\n",
       "      <td>Khandbari</td>\n",
       "      <td>NP</td>\n",
       "      <td>2022-06-27 12:41:07</td>\n",
       "      <td>27.3747</td>\n",
       "      <td>87.2039</td>\n",
       "      <td>74.64</td>\n",
       "      <td>90</td>\n",
       "      <td>100</td>\n",
       "      <td>2.17</td>\n",
       "    </tr>\n",
       "    <tr>\n",
       "      <th>25</th>\n",
       "      <td>25</td>\n",
       "      <td>Sao Gabriel Da Cachoeira</td>\n",
       "      <td>BR</td>\n",
       "      <td>2022-06-27 12:41:10</td>\n",
       "      <td>-0.1303</td>\n",
       "      <td>-67.0892</td>\n",
       "      <td>73.20</td>\n",
       "      <td>94</td>\n",
       "      <td>75</td>\n",
       "      <td>3.44</td>\n",
       "    </tr>\n",
       "    <tr>\n",
       "      <th>26</th>\n",
       "      <td>26</td>\n",
       "      <td>Vaini</td>\n",
       "      <td>TO</td>\n",
       "      <td>2022-06-27 12:41:11</td>\n",
       "      <td>-21.2000</td>\n",
       "      <td>-175.2000</td>\n",
       "      <td>73.56</td>\n",
       "      <td>83</td>\n",
       "      <td>20</td>\n",
       "      <td>11.50</td>\n",
       "    </tr>\n",
       "    <tr>\n",
       "      <th>28</th>\n",
       "      <td>28</td>\n",
       "      <td>Atuona</td>\n",
       "      <td>PF</td>\n",
       "      <td>2022-06-27 12:41:12</td>\n",
       "      <td>-9.8000</td>\n",
       "      <td>-139.0333</td>\n",
       "      <td>77.52</td>\n",
       "      <td>70</td>\n",
       "      <td>1</td>\n",
       "      <td>21.65</td>\n",
       "    </tr>\n",
       "  </tbody>\n",
       "</table>\n",
       "</div>"
      ],
      "text/plain": [
       "    City_ID                      City Country                 Date      Lat  \\\n",
       "2         2                    Kupang      ID  2022-06-27 12:41:01 -10.1667   \n",
       "6         6                 Cape Town      ZA  2022-06-27 12:39:31 -33.9258   \n",
       "7         7                   Rikitea      PF  2022-06-27 12:41:02 -23.1203   \n",
       "8         8              Ponta Do Sol      PT  2022-06-27 12:41:03  32.6667   \n",
       "10       10                      Hilo      US  2022-06-27 12:41:04  19.7297   \n",
       "20       20              Mount Vernon      US  2022-06-27 12:39:11  40.9126   \n",
       "21       21                 Khandbari      NP  2022-06-27 12:41:07  27.3747   \n",
       "25       25  Sao Gabriel Da Cachoeira      BR  2022-06-27 12:41:10  -0.1303   \n",
       "26       26                     Vaini      TO  2022-06-27 12:41:11 -21.2000   \n",
       "28       28                    Atuona      PF  2022-06-27 12:41:12  -9.8000   \n",
       "\n",
       "         Lng  Max Temp  Humidity  Cloudiness  Wind Speed  \n",
       "2   123.5833     78.67        73          74       13.38  \n",
       "6    18.4232     78.12        36           0        3.44  \n",
       "7  -134.9692     73.47        66           0        7.23  \n",
       "8   -17.1000     73.71        62          26        3.27  \n",
       "10 -155.0900     71.26        89          20        5.75  \n",
       "20  -73.8371     75.02        80         100       11.99  \n",
       "21   87.2039     74.64        90         100        2.17  \n",
       "25  -67.0892     73.20        94          75        3.44  \n",
       "26 -175.2000     73.56        83          20       11.50  \n",
       "28 -139.0333     77.52        70           1       21.65  "
      ]
     },
     "execution_count": 14,
     "metadata": {},
     "output_type": "execute_result"
    }
   ],
   "source": [
    "# Filter the dataset to find the cities that fit the criteria.\n",
    "preferred_cities_df = city_data_df.loc[(city_data_df[\"Max Temp\"] <= max_temp) & \\\n",
    "                                       (city_data_df[\"Max Temp\"] >= min_temp)]\n",
    "preferred_cities_df.head(10)"
   ]
  },
  {
   "cell_type": "code",
   "execution_count": 15,
   "id": "1a576ed2",
   "metadata": {},
   "outputs": [
    {
     "data": {
      "text/plain": [
       "City_ID       0\n",
       "City          0\n",
       "Country       1\n",
       "Date          0\n",
       "Lat           0\n",
       "Lng           0\n",
       "Max Temp      0\n",
       "Humidity      0\n",
       "Cloudiness    0\n",
       "Wind Speed    0\n",
       "dtype: int64"
      ]
     },
     "execution_count": 15,
     "metadata": {},
     "output_type": "execute_result"
    }
   ],
   "source": [
    "preferred_cities_df.isnull().sum()"
   ]
  },
  {
   "cell_type": "code",
   "execution_count": 16,
   "id": "6c6eebcc",
   "metadata": {},
   "outputs": [
    {
     "data": {
      "text/plain": [
       "City_ID       164\n",
       "City          164\n",
       "Country       163\n",
       "Date          164\n",
       "Lat           164\n",
       "Lng           164\n",
       "Max Temp      164\n",
       "Humidity      164\n",
       "Cloudiness    164\n",
       "Wind Speed    164\n",
       "dtype: int64"
      ]
     },
     "execution_count": 16,
     "metadata": {},
     "output_type": "execute_result"
    }
   ],
   "source": [
    "preferred_cities_df.count()"
   ]
  },
  {
   "cell_type": "code",
   "execution_count": 17,
   "id": "45a507e2",
   "metadata": {},
   "outputs": [],
   "source": [
    "preferred_cities_df = preferred_cities_df.dropna()"
   ]
  },
  {
   "cell_type": "code",
   "execution_count": 18,
   "id": "72fcb61f",
   "metadata": {},
   "outputs": [
    {
     "data": {
      "text/plain": [
       "City_ID       163\n",
       "City          163\n",
       "Country       163\n",
       "Date          163\n",
       "Lat           163\n",
       "Lng           163\n",
       "Max Temp      163\n",
       "Humidity      163\n",
       "Cloudiness    163\n",
       "Wind Speed    163\n",
       "dtype: int64"
      ]
     },
     "execution_count": 18,
     "metadata": {},
     "output_type": "execute_result"
    }
   ],
   "source": [
    "preferred_cities_df.count()"
   ]
  },
  {
   "cell_type": "code",
   "execution_count": 19,
   "id": "e18f1cdd",
   "metadata": {},
   "outputs": [
    {
     "data": {
      "text/html": [
       "<div>\n",
       "<style scoped>\n",
       "    .dataframe tbody tr th:only-of-type {\n",
       "        vertical-align: middle;\n",
       "    }\n",
       "\n",
       "    .dataframe tbody tr th {\n",
       "        vertical-align: top;\n",
       "    }\n",
       "\n",
       "    .dataframe thead th {\n",
       "        text-align: right;\n",
       "    }\n",
       "</style>\n",
       "<table border=\"1\" class=\"dataframe\">\n",
       "  <thead>\n",
       "    <tr style=\"text-align: right;\">\n",
       "      <th></th>\n",
       "      <th>City</th>\n",
       "      <th>Country</th>\n",
       "      <th>Max Temp</th>\n",
       "      <th>Lat</th>\n",
       "      <th>Lng</th>\n",
       "      <th>Hotel Name</th>\n",
       "    </tr>\n",
       "  </thead>\n",
       "  <tbody>\n",
       "    <tr>\n",
       "      <th>2</th>\n",
       "      <td>Kupang</td>\n",
       "      <td>ID</td>\n",
       "      <td>78.67</td>\n",
       "      <td>-10.1667</td>\n",
       "      <td>123.5833</td>\n",
       "      <td></td>\n",
       "    </tr>\n",
       "    <tr>\n",
       "      <th>6</th>\n",
       "      <td>Cape Town</td>\n",
       "      <td>ZA</td>\n",
       "      <td>78.12</td>\n",
       "      <td>-33.9258</td>\n",
       "      <td>18.4232</td>\n",
       "      <td></td>\n",
       "    </tr>\n",
       "    <tr>\n",
       "      <th>7</th>\n",
       "      <td>Rikitea</td>\n",
       "      <td>PF</td>\n",
       "      <td>73.47</td>\n",
       "      <td>-23.1203</td>\n",
       "      <td>-134.9692</td>\n",
       "      <td></td>\n",
       "    </tr>\n",
       "    <tr>\n",
       "      <th>8</th>\n",
       "      <td>Ponta Do Sol</td>\n",
       "      <td>PT</td>\n",
       "      <td>73.71</td>\n",
       "      <td>32.6667</td>\n",
       "      <td>-17.1000</td>\n",
       "      <td></td>\n",
       "    </tr>\n",
       "    <tr>\n",
       "      <th>10</th>\n",
       "      <td>Hilo</td>\n",
       "      <td>US</td>\n",
       "      <td>71.26</td>\n",
       "      <td>19.7297</td>\n",
       "      <td>-155.0900</td>\n",
       "      <td></td>\n",
       "    </tr>\n",
       "    <tr>\n",
       "      <th>20</th>\n",
       "      <td>Mount Vernon</td>\n",
       "      <td>US</td>\n",
       "      <td>75.02</td>\n",
       "      <td>40.9126</td>\n",
       "      <td>-73.8371</td>\n",
       "      <td></td>\n",
       "    </tr>\n",
       "    <tr>\n",
       "      <th>21</th>\n",
       "      <td>Khandbari</td>\n",
       "      <td>NP</td>\n",
       "      <td>74.64</td>\n",
       "      <td>27.3747</td>\n",
       "      <td>87.2039</td>\n",
       "      <td></td>\n",
       "    </tr>\n",
       "    <tr>\n",
       "      <th>25</th>\n",
       "      <td>Sao Gabriel Da Cachoeira</td>\n",
       "      <td>BR</td>\n",
       "      <td>73.20</td>\n",
       "      <td>-0.1303</td>\n",
       "      <td>-67.0892</td>\n",
       "      <td></td>\n",
       "    </tr>\n",
       "    <tr>\n",
       "      <th>26</th>\n",
       "      <td>Vaini</td>\n",
       "      <td>TO</td>\n",
       "      <td>73.56</td>\n",
       "      <td>-21.2000</td>\n",
       "      <td>-175.2000</td>\n",
       "      <td></td>\n",
       "    </tr>\n",
       "    <tr>\n",
       "      <th>28</th>\n",
       "      <td>Atuona</td>\n",
       "      <td>PF</td>\n",
       "      <td>77.52</td>\n",
       "      <td>-9.8000</td>\n",
       "      <td>-139.0333</td>\n",
       "      <td></td>\n",
       "    </tr>\n",
       "  </tbody>\n",
       "</table>\n",
       "</div>"
      ],
      "text/plain": [
       "                        City Country  Max Temp      Lat       Lng Hotel Name\n",
       "2                     Kupang      ID     78.67 -10.1667  123.5833           \n",
       "6                  Cape Town      ZA     78.12 -33.9258   18.4232           \n",
       "7                    Rikitea      PF     73.47 -23.1203 -134.9692           \n",
       "8               Ponta Do Sol      PT     73.71  32.6667  -17.1000           \n",
       "10                      Hilo      US     71.26  19.7297 -155.0900           \n",
       "20              Mount Vernon      US     75.02  40.9126  -73.8371           \n",
       "21                 Khandbari      NP     74.64  27.3747   87.2039           \n",
       "25  Sao Gabriel Da Cachoeira      BR     73.20  -0.1303  -67.0892           \n",
       "26                     Vaini      TO     73.56 -21.2000 -175.2000           \n",
       "28                    Atuona      PF     77.52  -9.8000 -139.0333           "
      ]
     },
     "execution_count": 19,
     "metadata": {},
     "output_type": "execute_result"
    }
   ],
   "source": [
    "hotel_df = preferred_cities_df[[\"City\",\"Country\",\"Max Temp\",\"Lat\",\"Lng\"]].copy()\n",
    "hotel_df[\"Hotel Name\"] = \"\"\n",
    "hotel_df.head(10)"
   ]
  },
  {
   "cell_type": "code",
   "execution_count": 20,
   "id": "efce63ed",
   "metadata": {},
   "outputs": [],
   "source": [
    "params = {\n",
    "    \"radius\" : 5000,\n",
    "    \"type\" : \"lodging\",\n",
    "    \"key\" : g_key\n",
    "}"
   ]
  },
  {
   "cell_type": "code",
   "execution_count": 21,
   "id": "ed0d7a9e",
   "metadata": {},
   "outputs": [
    {
     "name": "stdout",
     "output_type": "stream",
     "text": [
      "Hotel not found... skipping.\n",
      "Hotel not found... skipping.\n",
      "Hotel not found... skipping.\n",
      "Hotel not found... skipping.\n",
      "Hotel not found... skipping.\n",
      "Hotel not found... skipping.\n",
      "Hotel not found... skipping.\n",
      "Hotel not found... skipping.\n",
      "Hotel not found... skipping.\n",
      "Hotel not found... skipping.\n",
      "Hotel not found... skipping.\n",
      "Hotel not found... skipping.\n",
      "Hotel not found... skipping.\n"
     ]
    }
   ],
   "source": [
    "for index, row in hotel_df.iterrows():\n",
    "    lat = row['Lat']\n",
    "    lng = row['Lng']\n",
    "    \n",
    "    params['location'] = f\"{lat},{lng}\"\n",
    "    \n",
    "    base_url = \"https://maps.googleapis.com/maps/api/place/nearbysearch/json\"\n",
    "    \n",
    "    hotels = requests.get(base_url, params=params).json()\n",
    "    \n",
    "    try:\n",
    "        hotel_df.loc[index,\"Hotel Name\"] = hotels['results'][0]['name']\n",
    "    except (IndexError):\n",
    "        print(\"Hotel not found... skipping.\")"
   ]
  },
  {
   "cell_type": "code",
   "execution_count": null,
   "id": "01bf9ecc",
   "metadata": {},
   "outputs": [],
   "source": []
  },
  {
   "cell_type": "code",
   "execution_count": 22,
   "id": "bbf28f29",
   "metadata": {},
   "outputs": [
    {
     "data": {
      "text/html": [
       "<div>\n",
       "<style scoped>\n",
       "    .dataframe tbody tr th:only-of-type {\n",
       "        vertical-align: middle;\n",
       "    }\n",
       "\n",
       "    .dataframe tbody tr th {\n",
       "        vertical-align: top;\n",
       "    }\n",
       "\n",
       "    .dataframe thead th {\n",
       "        text-align: right;\n",
       "    }\n",
       "</style>\n",
       "<table border=\"1\" class=\"dataframe\">\n",
       "  <thead>\n",
       "    <tr style=\"text-align: right;\">\n",
       "      <th></th>\n",
       "      <th>City</th>\n",
       "      <th>Country</th>\n",
       "      <th>Max Temp</th>\n",
       "      <th>Lat</th>\n",
       "      <th>Lng</th>\n",
       "      <th>Hotel Name</th>\n",
       "    </tr>\n",
       "  </thead>\n",
       "  <tbody>\n",
       "    <tr>\n",
       "      <th>2</th>\n",
       "      <td>Kupang</td>\n",
       "      <td>ID</td>\n",
       "      <td>78.67</td>\n",
       "      <td>-10.1667</td>\n",
       "      <td>123.5833</td>\n",
       "      <td>Hotel On The Rock by Prasanthi</td>\n",
       "    </tr>\n",
       "    <tr>\n",
       "      <th>6</th>\n",
       "      <td>Cape Town</td>\n",
       "      <td>ZA</td>\n",
       "      <td>78.12</td>\n",
       "      <td>-33.9258</td>\n",
       "      <td>18.4232</td>\n",
       "      <td>Radisson Blu Hotel Waterfront, Cape Town</td>\n",
       "    </tr>\n",
       "    <tr>\n",
       "      <th>7</th>\n",
       "      <td>Rikitea</td>\n",
       "      <td>PF</td>\n",
       "      <td>73.47</td>\n",
       "      <td>-23.1203</td>\n",
       "      <td>-134.9692</td>\n",
       "      <td>People ThankYou</td>\n",
       "    </tr>\n",
       "    <tr>\n",
       "      <th>8</th>\n",
       "      <td>Ponta Do Sol</td>\n",
       "      <td>PT</td>\n",
       "      <td>73.71</td>\n",
       "      <td>32.6667</td>\n",
       "      <td>-17.1000</td>\n",
       "      <td>Hotel do Campo</td>\n",
       "    </tr>\n",
       "    <tr>\n",
       "      <th>10</th>\n",
       "      <td>Hilo</td>\n",
       "      <td>US</td>\n",
       "      <td>71.26</td>\n",
       "      <td>19.7297</td>\n",
       "      <td>-155.0900</td>\n",
       "      <td>Hilo Hawaiian Hotel</td>\n",
       "    </tr>\n",
       "    <tr>\n",
       "      <th>20</th>\n",
       "      <td>Mount Vernon</td>\n",
       "      <td>US</td>\n",
       "      <td>75.02</td>\n",
       "      <td>40.9126</td>\n",
       "      <td>-73.8371</td>\n",
       "      <td>Ramada by Wyndham Bronx</td>\n",
       "    </tr>\n",
       "    <tr>\n",
       "      <th>21</th>\n",
       "      <td>Khandbari</td>\n",
       "      <td>NP</td>\n",
       "      <td>74.64</td>\n",
       "      <td>27.3747</td>\n",
       "      <td>87.2039</td>\n",
       "      <td>Sainik Hotel And Lodge</td>\n",
       "    </tr>\n",
       "    <tr>\n",
       "      <th>25</th>\n",
       "      <td>Sao Gabriel Da Cachoeira</td>\n",
       "      <td>BR</td>\n",
       "      <td>73.20</td>\n",
       "      <td>-0.1303</td>\n",
       "      <td>-67.0892</td>\n",
       "      <td>Alarne - Área De Lazer Do Alto Rio Negro</td>\n",
       "    </tr>\n",
       "    <tr>\n",
       "      <th>26</th>\n",
       "      <td>Vaini</td>\n",
       "      <td>TO</td>\n",
       "      <td>73.56</td>\n",
       "      <td>-21.2000</td>\n",
       "      <td>-175.2000</td>\n",
       "      <td>Keleti Beach Resort</td>\n",
       "    </tr>\n",
       "    <tr>\n",
       "      <th>28</th>\n",
       "      <td>Atuona</td>\n",
       "      <td>PF</td>\n",
       "      <td>77.52</td>\n",
       "      <td>-9.8000</td>\n",
       "      <td>-139.0333</td>\n",
       "      <td>Villa Enata</td>\n",
       "    </tr>\n",
       "  </tbody>\n",
       "</table>\n",
       "</div>"
      ],
      "text/plain": [
       "                        City Country  Max Temp      Lat       Lng  \\\n",
       "2                     Kupang      ID     78.67 -10.1667  123.5833   \n",
       "6                  Cape Town      ZA     78.12 -33.9258   18.4232   \n",
       "7                    Rikitea      PF     73.47 -23.1203 -134.9692   \n",
       "8               Ponta Do Sol      PT     73.71  32.6667  -17.1000   \n",
       "10                      Hilo      US     71.26  19.7297 -155.0900   \n",
       "20              Mount Vernon      US     75.02  40.9126  -73.8371   \n",
       "21                 Khandbari      NP     74.64  27.3747   87.2039   \n",
       "25  Sao Gabriel Da Cachoeira      BR     73.20  -0.1303  -67.0892   \n",
       "26                     Vaini      TO     73.56 -21.2000 -175.2000   \n",
       "28                    Atuona      PF     77.52  -9.8000 -139.0333   \n",
       "\n",
       "                                  Hotel Name  \n",
       "2             Hotel On The Rock by Prasanthi  \n",
       "6   Radisson Blu Hotel Waterfront, Cape Town  \n",
       "7                            People ThankYou  \n",
       "8                             Hotel do Campo  \n",
       "10                       Hilo Hawaiian Hotel  \n",
       "20                   Ramada by Wyndham Bronx  \n",
       "21                    Sainik Hotel And Lodge  \n",
       "25  Alarne - Área De Lazer Do Alto Rio Negro  \n",
       "26                       Keleti Beach Resort  \n",
       "28                               Villa Enata  "
      ]
     },
     "execution_count": 22,
     "metadata": {},
     "output_type": "execute_result"
    }
   ],
   "source": [
    "hotel_df.head(10)"
   ]
  },
  {
   "cell_type": "code",
   "execution_count": 23,
   "id": "b8480e09",
   "metadata": {},
   "outputs": [
    {
     "data": {
      "application/vnd.jupyter.widget-view+json": {
       "model_id": "e9685048d8524721839b5744382f565e",
       "version_major": 2,
       "version_minor": 0
      },
      "text/plain": [
       "Figure(layout=FigureLayout(height='420px'))"
      ]
     },
     "metadata": {},
     "output_type": "display_data"
    }
   ],
   "source": [
    "locations = hotel_df[['Lat','Lng']]\n",
    "max_temp = hotel_df['Max Temp']\n",
    "fig = gmaps.figure(center=(30.0,31.0), zoom_level = 1.5)\n",
    "heat_layer = gmaps.heatmap_layer(locations, weights = max_temp, dissipating=False, max_intensity=300, point_radius=4)\n",
    "fig.add_layer(heat_layer)\n",
    "fig"
   ]
  },
  {
   "cell_type": "code",
   "execution_count": 24,
   "id": "9b8356e3",
   "metadata": {},
   "outputs": [
    {
     "data": {
      "application/vnd.jupyter.widget-view+json": {
       "model_id": "5cb39f2354d94c4caccb4e1b97fc09b7",
       "version_major": 2,
       "version_minor": 0
      },
      "text/plain": [
       "Figure(layout=FigureLayout(height='420px'))"
      ]
     },
     "metadata": {},
     "output_type": "display_data"
    }
   ],
   "source": [
    "locations = hotel_df[['Lat','Lng']]\n",
    "max_temp = hotel_df['Max Temp']\n",
    "fig = gmaps.figure(center=(30.0,31.0), zoom_level = 1.5)\n",
    "heat_layer = gmaps.heatmap_layer(locations, weights = max_temp, dissipating=False, max_intensity=300, point_radius=4)\n",
    "fig.add_layer(heat_layer)\n",
    "marker_layer = gmaps.marker_layer(locations)\n",
    "fig.add_layer(marker_layer)\n",
    "fig"
   ]
  },
  {
   "cell_type": "code",
   "execution_count": 25,
   "id": "efc84c12",
   "metadata": {},
   "outputs": [],
   "source": [
    "info_box_template = \"\"\"\n",
    "<dl>\n",
    "<dt>Hotel Name</dt><dd>{Hotel Name}</dd>\n",
    "<dt>City</dt><dd>{City}</dd>\n",
    "<dt>Country</dt><dd>{Country}</dd>\n",
    "<dt>Max Temp</dt><dd>{Max Temp} °F</dd>\n",
    "</dl>\n",
    "\"\"\"\n",
    "\n"
   ]
  },
  {
   "cell_type": "code",
   "execution_count": 26,
   "id": "4a5f9d43",
   "metadata": {},
   "outputs": [],
   "source": [
    "hotel_info = [info_box_template.format(**row) for index, row in hotel_df.iterrows()]"
   ]
  },
  {
   "cell_type": "code",
   "execution_count": 27,
   "id": "8626cf44",
   "metadata": {},
   "outputs": [
    {
     "data": {
      "application/vnd.jupyter.widget-view+json": {
       "model_id": "092f8240c9fe4627bc85b7c3cbcbc8be",
       "version_major": 2,
       "version_minor": 0
      },
      "text/plain": [
       "Figure(layout=FigureLayout(height='420px'))"
      ]
     },
     "metadata": {},
     "output_type": "display_data"
    }
   ],
   "source": [
    "locations = hotel_df[['Lat','Lng']]\n",
    "max_temp = hotel_df['Max Temp']\n",
    "fig = gmaps.figure(center=(30.0,31.0), zoom_level = 1.5)\n",
    "heat_layer = gmaps.heatmap_layer(locations, weights = max_temp, dissipating=False, max_intensity=300, point_radius=4)\n",
    "fig.add_layer(heat_layer)\n",
    "marker_layer = gmaps.marker_layer(locations, info_box_content = hotel_info)\n",
    "fig.add_layer(marker_layer)\n",
    "fig"
   ]
  },
  {
   "cell_type": "code",
   "execution_count": null,
   "id": "c2a64583",
   "metadata": {},
   "outputs": [],
   "source": []
  }
 ],
 "metadata": {
  "kernelspec": {
   "display_name": "PythonDataNew",
   "language": "python",
   "name": "pythondatanew"
  },
  "language_info": {
   "codemirror_mode": {
    "name": "ipython",
    "version": 3
   },
   "file_extension": ".py",
   "mimetype": "text/x-python",
   "name": "python",
   "nbconvert_exporter": "python",
   "pygments_lexer": "ipython3",
   "version": "3.7.13"
  }
 },
 "nbformat": 4,
 "nbformat_minor": 5
}
